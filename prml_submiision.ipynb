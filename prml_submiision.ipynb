{
 "cells": [
  {
   "cell_type": "code",
   "execution_count": 1,
   "metadata": {
    "_cell_guid": "b1076dfc-b9ad-4769-8c92-a6c4dae69d19",
    "_uuid": "8f2839f25d086af736a60e9eeb907d3b93b6e0e5"
   },
   "outputs": [
    {
     "name": "stdout",
     "output_type": "stream",
     "text": [
      "/kaggle/input/imputed-train-data/imputed_y_train.csv\n",
      "/kaggle/input/imputed-train-data/imputed_x_train.csv\n",
      "/kaggle/input/imputation-new-1/imputed_13k.csv\n",
      "/kaggle/input/imputation-new-1/imputed_11k.csv\n",
      "/kaggle/input/prml-data/sample_submission.csv\n",
      "/kaggle/input/prml-data/bikers.csv\n",
      "/kaggle/input/prml-data/bikers_network.csv\n",
      "/kaggle/input/prml-data/tour_convoy.csv\n",
      "/kaggle/input/prml-data/tours.csv\n",
      "/kaggle/input/prml-data/train.csv\n",
      "/kaggle/input/prml-data/test.csv\n"
     ]
    }
   ],
   "source": [
    "# This Python 3 environment comes with many helpful analytics libraries installed\n",
    "# It is defined by the kaggle/python Docker image: https://github.com/kaggle/docker-python\n",
    "# For example, here's several helpful packages to load\n",
    "\n",
    "import numpy as np # linear algebra\n",
    "import pandas as pd # data processing, CSV file I/O (e.g. pd.read_csv)\n",
    "import matplotlib.pyplot as plt\n",
    "%matplotlib inline\n",
    "\n",
    "# Input data files are available in the read-only \"../input/\" directory\n",
    "# For example, running this (by clicking run or pressing Shift+Enter) will list all files under the input directory\n",
    "\n",
    "import os\n",
    "for dirname, _, filenames in os.walk('/kaggle/input'):\n",
    "    for filename in filenames:\n",
    "        print(os.path.join(dirname, filename))\n",
    "\n",
    "# You can write up to 20GB to the current directory (/kaggle/working/) that gets preserved as output when you create a version using \"Save & Run All\" \n",
    "# You can also write temporary files to /kaggle/temp/, but they won't be saved outside of the current session"
   ]
  },
  {
   "cell_type": "markdown",
   "metadata": {},
   "source": [
    "# Creating the submission"
   ]
  },
  {
   "cell_type": "code",
   "execution_count": 44,
   "metadata": {},
   "outputs": [
    {
     "data": {
      "text/html": [
       "<div>\n",
       "<style scoped>\n",
       "    .dataframe tbody tr th:only-of-type {\n",
       "        vertical-align: middle;\n",
       "    }\n",
       "\n",
       "    .dataframe tbody tr th {\n",
       "        vertical-align: top;\n",
       "    }\n",
       "\n",
       "    .dataframe thead th {\n",
       "        text-align: right;\n",
       "    }\n",
       "</style>\n",
       "<table border=\"1\" class=\"dataframe\">\n",
       "  <thead>\n",
       "    <tr style=\"text-align: right;\">\n",
       "      <th></th>\n",
       "      <th>biker_id</th>\n",
       "      <th>tour_id</th>\n",
       "      <th>invited</th>\n",
       "      <th>timestamp</th>\n",
       "    </tr>\n",
       "  </thead>\n",
       "  <tbody>\n",
       "    <tr>\n",
       "      <th>0</th>\n",
       "      <td>DA44012</td>\n",
       "      <td>RU29072432</td>\n",
       "      <td>0</td>\n",
       "      <td>-0.623708</td>\n",
       "    </tr>\n",
       "    <tr>\n",
       "      <th>1</th>\n",
       "      <td>EC36494</td>\n",
       "      <td>QU2418051</td>\n",
       "      <td>0</td>\n",
       "      <td>0.358531</td>\n",
       "    </tr>\n",
       "    <tr>\n",
       "      <th>2</th>\n",
       "      <td>EC36494</td>\n",
       "      <td>TR03627753</td>\n",
       "      <td>0</td>\n",
       "      <td>0.358551</td>\n",
       "    </tr>\n",
       "    <tr>\n",
       "      <th>3</th>\n",
       "      <td>EC36494</td>\n",
       "      <td>WY9782433</td>\n",
       "      <td>0</td>\n",
       "      <td>0.358530</td>\n",
       "    </tr>\n",
       "    <tr>\n",
       "      <th>4</th>\n",
       "      <td>FF74997</td>\n",
       "      <td>YT1853303</td>\n",
       "      <td>0</td>\n",
       "      <td>1.069049</td>\n",
       "    </tr>\n",
       "  </tbody>\n",
       "</table>\n",
       "</div>"
      ],
      "text/plain": [
       "  biker_id     tour_id  invited  timestamp\n",
       "0  DA44012  RU29072432        0  -0.623708\n",
       "1  EC36494   QU2418051        0   0.358531\n",
       "2  EC36494  TR03627753        0   0.358551\n",
       "3  EC36494   WY9782433        0   0.358530\n",
       "4  FF74997   YT1853303        0   1.069049"
      ]
     },
     "execution_count": 44,
     "metadata": {},
     "output_type": "execute_result"
    }
   ],
   "source": [
    "import datetime\n",
    "def conv_to_time(a):\n",
    "    my_string = a\n",
    "    b = datetime.datetime.strptime(my_string, '%d-%m-%Y %H:%M:%S')\n",
    "    c = datetime.datetime.timestamp(b)\n",
    "    return c\n",
    "\n",
    "train2 = pd.read_csv('../input/imputation-new-1/imputed_11k.csv')\n",
    "train3 = pd.read_csv('../input/imputation-new-1/imputed_13k.csv')\n",
    "x_t = train3.drop(labels=['Unnamed: 0', 'like/dislike'], axis=1)\n",
    "y_t = train3['like/dislike'].copy()\n",
    "\n",
    "x_t.timestamp = x_t.timestamp.apply(conv_to_time)\n",
    "x_t.timestamp = (x_t.timestamp-x_t.timestamp.mean())/x_t.timestamp.std()\n",
    "x_t.head()"
   ]
  },
  {
   "cell_type": "code",
   "execution_count": 27,
   "metadata": {},
   "outputs": [],
   "source": [
    "from sklearn.preprocessing import OrdinalEncoder, normalize\n",
    "from sklearn.model_selection import cross_val_score, GridSearchCV\n",
    "from xgboost import XGBClassifier\n",
    "from sklearn.tree import DecisionTreeClassifier\n",
    "from sklearn.linear_model import LogisticRegression\n",
    "from sklearn.ensemble import RandomForestClassifier, AdaBoostClassifier\n",
    "from sklearn.neighbors import KNeighborsClassifier as KNC\n",
    "from sklearn.svm import SVC"
   ]
  },
  {
   "cell_type": "code",
   "execution_count": 50,
   "metadata": {},
   "outputs": [
    {
     "name": "stdout",
     "output_type": "stream",
     "text": [
      "KNeighborsClassifier(n_neighbors=95)\n",
      "0.5261731533681335\n"
     ]
    }
   ],
   "source": [
    "model = KNC()\n",
    "enc = OrdinalEncoder()\n",
    "x_enc_qual = pd.DataFrame(enc.fit_transform(x_t[['biker_id', 'tour_id']]), columns=['biker_id', 'tour_id'])\n",
    "x_enc = x_t\n",
    "x_enc.tour_id = x_enc_qual.tour_id\n",
    "x_enc.biker_id = x_enc_qual.biker_id\n",
    "basescore = cross_val_score(model, x_enc, y_t).mean()\n",
    "###\n",
    "param_grid = {'n_neighbors' : range(5,101,5),'weights':('uniform', 'distance')}\n",
    "grid = GridSearchCV(model, param_grid)\n",
    "grid.fit(x_enc, y_t)\n",
    "print(grid.best_estimator_)\n",
    "print(grid.best_score_)"
   ]
  },
  {
   "cell_type": "code",
   "execution_count": 30,
   "metadata": {},
   "outputs": [
    {
     "data": {
      "text/plain": [
       "0.8184182121874202"
      ]
     },
     "execution_count": 30,
     "metadata": {},
     "output_type": "execute_result"
    }
   ],
   "source": [
    "model2 = AdaBoostClassifier()\n",
    "enc = OrdinalEncoder()\n",
    "x_enc_qual = pd.DataFrame(enc.fit_transform(x_t[['biker_id', 'tour_id']]), columns=['biker_id', 'tour_id'])\n",
    "x_enc = x_t\n",
    "x_enc.tour_id = x_enc_qual.tour_id\n",
    "x_enc.biker_id = x_enc_qual.biker_id\n",
    "basescore = cross_val_score(model2, x_enc, y_t).mean()\n",
    "###\n",
    "param_grid = {'base_estimator' : [LogisticRegression(), SVC(probability='True', kernel='linear'), DecisionTreeClassifier(max_depth=1)],'n_estimators':[50, 100, 150]}\n",
    "grid = GridSearchCV(model2, param_grid)\n",
    "grid.fit(x_enc, y_t)\n",
    "grid.best_estimator_\n",
    "grid.best_score_"
   ]
  },
  {
   "cell_type": "code",
   "execution_count": null,
   "metadata": {},
   "outputs": [],
   "source": [
    "model3 = SVC()\n",
    "enc = OrdinalEncoder()\n",
    "x_enc_qual = pd.DataFrame(enc.fit_transform(x_t[['biker_id', 'tour_id']]), columns=['biker_id', 'tour_id'])\n",
    "x_enc = x_t\n",
    "x_enc.tour_id = x_enc_qual.tour_id\n",
    "x_enc.biker_id = x_enc_qual.biker_id\n",
    "basescore = cross_val_score(model3, x_enc, y_t).mean()\n",
    "###\n",
    "param_grid = {'C':[0.1, 1, 10], 'kernel':['linear', 'rbf', 'poly'], 'class_weight': ['balanced']}\n",
    "grid = GridSearchCV(model3, param_grid)\n",
    "grid.fit(x_enc, y_t)\n",
    "grid.best_estimator_\n",
    "grid.best_score_"
   ]
  },
  {
   "cell_type": "code",
   "execution_count": 11,
   "metadata": {},
   "outputs": [],
   "source": [
    "from sklearn.preprocessing import OrdinalEncoder\n",
    "\n",
    "class submission:\n",
    "    def __init__(self, xtrain, ytrain, xtest):\n",
    "        self.train_x = xtrain\n",
    "        self.train_y = ytrain\n",
    "        self.test_x = xtest\n",
    "    \n",
    "    def create_submission(self,clf):\n",
    "        classifier = clf\n",
    "        enc = OrdinalEncoder()\n",
    "        x_train_enc_cols = pd.DataFrame(enc.fit_transform(self.train_x[['biker_id', 'tour_id']]), columns=['biker_id', 'tour_id'])\n",
    "        x_train_enc = self.train_x.copy()\n",
    "        x_train_enc['biker_id'] = x_train_enc_cols['biker_id']\n",
    "        x_train_enc['tour_id'] = x_train_enc_cols['tour_id']\n",
    "        classifier.fit(x_train_enc, self.train_y)\n",
    "        x_enc_cols = pd.DataFrame(enc.fit_transform(self.test_x[['biker_id', 'tour_id']]), columns=['biker_id', 'tour_id'])\n",
    "        x_enc = self.test_x.copy()\n",
    "        x_enc['biker_id'] = x_enc_cols['biker_id']\n",
    "        x_enc['tour_id'] = x_enc_cols['tour_id']\n",
    "        x = self.test_x.copy()\n",
    "        ypred = pd.Series(classifier.predict(x_enc),name='ypred')\n",
    "        ans = pd.concat([x,ypred],axis=1)\n",
    "        sub = []\n",
    "        for biker in x.biker_id.drop_duplicates():\n",
    "            like_tours = ans.tour_id[np.logical_and(ans.biker_id==biker, ans.ypred==1)].to_list()\n",
    "            dislike_tours = ans.tour_id[np.logical_and(ans.biker_id==biker, ans.ypred==0)].to_list()\n",
    "            temp = [biker, \" \".join(like_tours+dislike_tours)]\n",
    "            sub.append(temp)\n",
    "        final_sub = pd.DataFrame(data=sub,columns=['biker_id','tour_id'])\n",
    "        return final_sub\n",
    "    \n",
    "        "
   ]
  },
  {
   "cell_type": "code",
   "execution_count": 31,
   "metadata": {},
   "outputs": [
    {
     "data": {
      "text/html": [
       "<div>\n",
       "<style scoped>\n",
       "    .dataframe tbody tr th:only-of-type {\n",
       "        vertical-align: middle;\n",
       "    }\n",
       "\n",
       "    .dataframe tbody tr th {\n",
       "        vertical-align: top;\n",
       "    }\n",
       "\n",
       "    .dataframe thead th {\n",
       "        text-align: right;\n",
       "    }\n",
       "</style>\n",
       "<table border=\"1\" class=\"dataframe\">\n",
       "  <thead>\n",
       "    <tr style=\"text-align: right;\">\n",
       "      <th></th>\n",
       "      <th>biker_id</th>\n",
       "      <th>tour_id</th>\n",
       "    </tr>\n",
       "  </thead>\n",
       "  <tbody>\n",
       "    <tr>\n",
       "      <th>0</th>\n",
       "      <td>CG33145288</td>\n",
       "      <td>QX16813281 QR69035551 VW3098017 RP07279414 YU2...</td>\n",
       "    </tr>\n",
       "    <tr>\n",
       "      <th>1</th>\n",
       "      <td>EC61865653</td>\n",
       "      <td>RR14608095 QS25647788 ST80624055 RW48209109 US...</td>\n",
       "    </tr>\n",
       "    <tr>\n",
       "      <th>2</th>\n",
       "      <td>CC23946882</td>\n",
       "      <td>RU97005766 SU77726402 UX1543591 YV890078 RX773...</td>\n",
       "    </tr>\n",
       "    <tr>\n",
       "      <th>3</th>\n",
       "      <td>DC82478477</td>\n",
       "      <td>TR67083677 QV19013260 YW217712 SV43004825</td>\n",
       "    </tr>\n",
       "    <tr>\n",
       "      <th>4</th>\n",
       "      <td>EC46728549</td>\n",
       "      <td>SP29325544 ST54377311 RU29072432 SR30650403 RR...</td>\n",
       "    </tr>\n",
       "  </tbody>\n",
       "</table>\n",
       "</div>"
      ],
      "text/plain": [
       "     biker_id                                            tour_id\n",
       "0  CG33145288  QX16813281 QR69035551 VW3098017 RP07279414 YU2...\n",
       "1  EC61865653  RR14608095 QS25647788 ST80624055 RW48209109 US...\n",
       "2  CC23946882  RU97005766 SU77726402 UX1543591 YV890078 RX773...\n",
       "3  DC82478477          TR67083677 QV19013260 YW217712 SV43004825\n",
       "4  EC46728549  SP29325544 ST54377311 RU29072432 SR30650403 RR..."
      ]
     },
     "execution_count": 31,
     "metadata": {},
     "output_type": "execute_result"
    }
   ],
   "source": [
    "subm.head()"
   ]
  },
  {
   "cell_type": "code",
   "execution_count": 35,
   "metadata": {},
   "outputs": [
    {
     "data": {
      "text/html": [
       "<div>\n",
       "<style scoped>\n",
       "    .dataframe tbody tr th:only-of-type {\n",
       "        vertical-align: middle;\n",
       "    }\n",
       "\n",
       "    .dataframe tbody tr th {\n",
       "        vertical-align: top;\n",
       "    }\n",
       "\n",
       "    .dataframe thead th {\n",
       "        text-align: right;\n",
       "    }\n",
       "</style>\n",
       "<table border=\"1\" class=\"dataframe\">\n",
       "  <thead>\n",
       "    <tr style=\"text-align: right;\">\n",
       "      <th></th>\n",
       "      <th>biker_id</th>\n",
       "      <th>tour_id</th>\n",
       "    </tr>\n",
       "  </thead>\n",
       "  <tbody>\n",
       "    <tr>\n",
       "      <th>0</th>\n",
       "      <td>CG33145288</td>\n",
       "      <td>QX16813281 QR69035551 VW3098017 RP07279414 YU2...</td>\n",
       "    </tr>\n",
       "    <tr>\n",
       "      <th>1</th>\n",
       "      <td>EC61865653</td>\n",
       "      <td>RR14608095 QS25647788 ST80624055 RW48209109 US...</td>\n",
       "    </tr>\n",
       "    <tr>\n",
       "      <th>2</th>\n",
       "      <td>CC23946882</td>\n",
       "      <td>RU97005766 SU77726402 UX1543591 YV890078 RX773...</td>\n",
       "    </tr>\n",
       "    <tr>\n",
       "      <th>3</th>\n",
       "      <td>DC82478477</td>\n",
       "      <td>TR67083677 QV19013260 YW217712 SV43004825</td>\n",
       "    </tr>\n",
       "    <tr>\n",
       "      <th>4</th>\n",
       "      <td>EC46728549</td>\n",
       "      <td>SP29325544 ST54377311 RU29072432 SR30650403 RR...</td>\n",
       "    </tr>\n",
       "  </tbody>\n",
       "</table>\n",
       "</div>"
      ],
      "text/plain": [
       "     biker_id                                            tour_id\n",
       "0  CG33145288  QX16813281 QR69035551 VW3098017 RP07279414 YU2...\n",
       "1  EC61865653  RR14608095 QS25647788 ST80624055 RW48209109 US...\n",
       "2  CC23946882  RU97005766 SU77726402 UX1543591 YV890078 RX773...\n",
       "3  DC82478477          TR67083677 QV19013260 YW217712 SV43004825\n",
       "4  EC46728549  SP29325544 ST54377311 RU29072432 SR30650403 RR..."
      ]
     },
     "execution_count": 35,
     "metadata": {},
     "output_type": "execute_result"
    }
   ],
   "source": [
    "clf = grid.best_estimator_\n",
    "xtrain = x_t\n",
    "ytrain = y_t\n",
    "test = pd.read_csv('../input/prml-data/test.csv')\n",
    "test.timestamp = test.timestamp.apply(conv_to_time)\n",
    "test.timestamp = (test.timestamp - test.timestamp.mean())/test.timestamp.std()\n",
    "sub_ = submission(xtrain, ytrain, test)\n",
    "subm = sub_.create_submission(clf)\n",
    "subm.to_csv('final_s2.csv', header=True, index=False)\n",
    "subm.head()"
   ]
  },
  {
   "cell_type": "code",
   "execution_count": null,
   "metadata": {},
   "outputs": [],
   "source": []
  },
  {
   "cell_type": "code",
   "execution_count": null,
   "metadata": {},
   "outputs": [],
   "source": []
  },
  {
   "cell_type": "code",
   "execution_count": null,
   "metadata": {},
   "outputs": [],
   "source": []
  },
  {
   "cell_type": "code",
   "execution_count": null,
   "metadata": {},
   "outputs": [],
   "source": []
  }
 ],
 "metadata": {
  "kernelspec": {
   "display_name": "Python 3",
   "language": "python",
   "name": "python3"
  },
  "language_info": {
   "codemirror_mode": {
    "name": "ipython",
    "version": 3
   },
   "file_extension": ".py",
   "mimetype": "text/x-python",
   "name": "python",
   "nbconvert_exporter": "python",
   "pygments_lexer": "ipython3",
   "version": "3.8.3"
  }
 },
 "nbformat": 4,
 "nbformat_minor": 4
}
